{
 "cells": [
  {
   "cell_type": "code",
   "execution_count": 12,
   "metadata": {},
   "outputs": [],
   "source": [
    "import sys\n",
    "sys.path.append(\"../\") \n",
    "\n",
    "from definitions import *\n",
    "from utils import load_best_model\n",
    "from module.models.mlp import MLP"
   ]
  },
  {
   "cell_type": "code",
   "execution_count": 13,
   "metadata": {},
   "outputs": [
    {
     "name": "stdout",
     "output_type": "stream",
     "text": [
      "2\n",
      "{'params': {'features_count': 1000, 'layers': [512, 256, 128, 1], 'activation': 'elu', 'output_activation': 'linear', 'drop_rate': 0.5, 'regularizer_name': 'l1_l2', 'regularizer_param': 1e-06, 'initializer': 'glorot_normal', 'optimizer_name': 'rmsprop', 'epochs_count': 5, 'learning_rate_decay_method': 'on_plato', 'learning_rate': 0.0001, 'loss': 'mae', 'batch_size': 128, 'patience': 200}, 'scores': {'train': 60.45678646777408, 'val': 59.65545499739487, 'test': 49.16335654721409}, 'model_path': 'C:\\\\Users\\\\HWer\\\\Documents\\\\GitHub\\\\CrossPlatformNormalization\\\\CrossPlatformNormalization\\\\models\\\\predict_age/mlp\\\\trained_models\\\\cv_3'}\n"
     ]
    },
    {
     "ename": "ValueError",
     "evalue": "not enough values to unpack (expected 3, got 2)",
     "output_type": "error",
     "traceback": [
      "\u001b[1;31m---------------------------------------------------------------------------\u001b[0m",
      "\u001b[1;31mValueError\u001b[0m                                Traceback (most recent call last)",
      "\u001b[1;32m<ipython-input-13-f2a083fd98a4>\u001b[0m in \u001b[0;36m<module>\u001b[1;34m\u001b[0m\n\u001b[0;32m      4\u001b[0m     \u001b[0mMLP\u001b[0m\u001b[1;33m,\u001b[0m\u001b[1;33m\u001b[0m\u001b[1;33m\u001b[0m\u001b[0m\n\u001b[0;32m      5\u001b[0m     \u001b[0mexperiment_dir\u001b[0m\u001b[1;33m,\u001b[0m\u001b[1;33m\u001b[0m\u001b[1;33m\u001b[0m\u001b[0m\n\u001b[1;32m----> 6\u001b[1;33m     \u001b[1;34m'cv_results.json'\u001b[0m\u001b[1;33m,\u001b[0m\u001b[1;33m\u001b[0m\u001b[1;33m\u001b[0m\u001b[0m\n\u001b[0m\u001b[0;32m      7\u001b[0m )\n",
      "\u001b[1;31mValueError\u001b[0m: not enough values to unpack (expected 3, got 2)"
     ]
    }
   ],
   "source": [
    "experiment_dir = path_join(MODELS_DIR, 'predict_age/mlp')\n",
    "\n",
    "model, best_model_path, best_model_params = load_best_model(\n",
    "    MLP,\n",
    "    experiment_dir,\n",
    "    'cv_results.json',\n",
    ")"
   ]
  },
  {
   "cell_type": "code",
   "execution_count": null,
   "metadata": {},
   "outputs": [],
   "source": []
  }
 ],
 "metadata": {
  "kernelspec": {
   "display_name": "Python 3",
   "language": "python",
   "name": "python3"
  },
  "language_info": {
   "codemirror_mode": {
    "name": "ipython",
    "version": 3
   },
   "file_extension": ".py",
   "mimetype": "text/x-python",
   "name": "python",
   "nbconvert_exporter": "python",
   "pygments_lexer": "ipython3",
   "version": "3.6.7"
  }
 },
 "nbformat": 4,
 "nbformat_minor": 2
}
