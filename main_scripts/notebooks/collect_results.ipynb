{
 "cells": [
  {
   "cell_type": "code",
   "execution_count": 8,
   "metadata": {},
   "outputs": [],
   "source": [
    "import sys\n",
    "sys.path.append(\"../../\") \n",
    "\n",
    "from definitions import *\n",
    "from module.models.utils.utils import load_best_model_parameters\n",
    "from module.models.mlp import MLP\n",
    "\n",
    "import json\n",
    "import pandas as pd\n",
    "\n",
    "\n",
    "def saved_models_parameters_generator(results_file):\n",
    "    with open(results_file) as json_file:\n",
    "        data = json.load(json_file)\n",
    "\n",
    "        for i, node in enumerate(data):\n",
    "            yield node['params'], node['scores'], node['model_path']\n",
    "            \n",
    "            \n",
    "def load_best_model_parameters(model_directory, results_file, best_on='test', condition='min'):\n",
    "    cv_scores = []\n",
    "    data = []\n",
    "\n",
    "    condition_index = 0\n",
    "    if best_on == 'val':\n",
    "        condition_index = 1\n",
    "    elif best_on == 'test':\n",
    "        condition_index = 2\n",
    "\n",
    "    condition_lambda = lambda x: x.argmin()\n",
    "    if condition == 'max':\n",
    "        condition_lambda = lambda x: x.argmax()\n",
    "\n",
    "    for (parameters, scores, model_path) in saved_models_parameters_generator(os.path.join(results_file)):\n",
    "        data.append([parameters, scores, model_path])\n",
    "        cv_scores.append([scores['train'], scores['val'], scores['test']])\n",
    "\n",
    "    cv_scores = np.array(cv_scores)\n",
    "    best_model_index = condition_lambda(cv_scores[:, condition_index])\n",
    "    \n",
    "    best_parameters = data[best_model_index][0]\n",
    "    best_scores = data[best_model_index][1]\n",
    "    best_model_path = data[best_model_index][2]\n",
    "\n",
    "    cv_scores_file = os.path.join(best_model_path, 'cv_scores.csv')\n",
    "    cv_scores_data = pd.read_csv(cv_scores_file)\n",
    "\n",
    "    best_model_index = condition_lambda(cv_scores_data[best_on].values)\n",
    "    best_fold_path = os.path.join(best_model_path, '{}_fold'.format(best_model_index))\n",
    "\n",
    "    if not os.path.exists(best_fold_path):  # for older version of experiment structure\n",
    "        best_fold_path = os.path.join(best_model_path, str(best_model_index))\n",
    "\n",
    "    return best_parameters, best_scores, best_model_path, cv_scores_data, best_fold_path"
   ]
  },
  {
   "cell_type": "code",
   "execution_count": 60,
   "metadata": {},
   "outputs": [
    {
     "name": "stdout",
     "output_type": "stream",
     "text": [
      "{'features_count': 1000, 'layers': [512, 256, 128, 1], 'activation': 'lrelu', 'output_activation': 'linear', 'drop_rate': 0.75, 'regularizer_name': 'l1_l2', 'regularizer_param': 0.0001, 'initializer': 'glorot_normal', 'optimizer_name': 'rmsprop', 'epochs_count': 2000, 'learning_rate_decay_method': 'on_plato', 'learning_rate': 0.0001, 'loss': 'mae', 'batch_size': 128, 'patience': 200}\n",
      "{'train': 5.098262157268438, 'val': 6.39461719909812, 'test': 12.704128985813686}\n",
      "/home/aonishchuk/projects/CPN2/models/predict_age/mlp/cv_19\n"
     ]
    }
   ],
   "source": [
    "experiment_dir = path_join(MODELS_DIR, 'predict_age/mlp')\n",
    "results_file = 'C:/Users/HWer/Documents/GitHub/CrossPlatformNormalization/CrossPlatformNormalization/tmp/cv_results_mlp.json'\n",
    "\n",
    "best_parameters, best_scores, best_model_path, _, _ = load_best_model_parameters(\n",
    "    experiment_dir,\n",
    "    results_file,\n",
    ")\n",
    "print(best_parameters)\n",
    "print(best_scores)\n",
    "print(best_model_path)"
   ]
  },
  {
   "cell_type": "code",
   "execution_count": 59,
   "metadata": {},
   "outputs": [
    {
     "name": "stdout",
     "output_type": "stream",
     "text": [
      "{'features_count': 1000, 'layers': [[1000, 512, 256, 64], [256, 512, 1000]], 'activation': 'lrelu', 'output_activation': 'linear', 'drop_rate': 0.0, 'regularizer_name': 'l1_l2', 'regularizer_param': 1e-05, 'initializer': 'glorot_normal', 'optimizer_name': 'adam', 'epochs_count': 2000, 'learning_rate_decay_method': 'on_plato', 'learning_rate': 0.001, 'loss': 'mae', 'batch_size': 128, 'patience': 200}\n",
      "{'train': 0.5861383847456934, 'val': -999.5853026520005, 'test': -2408333.177056011}\n",
      "/home/aonishchuk/projects/CPN2/models/genes_normalization/dae/trained_models/cv_56\n"
     ]
    }
   ],
   "source": [
    "experiment_dir = path_join(MODELS_DIR, 'predict_age/mlp')\n",
    "results_file = 'C:/Users/HWer/Documents/GitHub/CrossPlatformNormalization/CrossPlatformNormalization/tmp/cv_results_dae.json'\n",
    "\n",
    "best_parameters, best_scores, best_model_path, _, _ = load_best_model_parameters(\n",
    "    experiment_dir,\n",
    "    results_file,\n",
    ")\n",
    "print(best_parameters)\n",
    "print(best_scores)\n",
    "print(best_model_path)"
   ]
  },
  {
   "cell_type": "code",
   "execution_count": 13,
   "metadata": {},
   "outputs": [
    {
     "name": "stdout",
     "output_type": "stream",
     "text": [
      "D:/Datasets/InsilicoMedicine/models/predict_age/mlp\\trained_models\\cv_1\\2_fold\n"
     ]
    }
   ],
   "source": [
    "print(best_fold_path)"
   ]
  },
  {
   "cell_type": "code",
   "execution_count": 45,
   "metadata": {},
   "outputs": [
    {
     "name": "stdout",
     "output_type": "stream",
     "text": [
      "{'features_count': 1000, 'layers': [[1000, 512, 256, 64], [256, 512, 1000]], 'activation': 'lrelu', 'output_activation': 'linear', 'drop_rate': 0.0, 'regularizer_name': 'l1_l2', 'regularizer_param': 1e-05, 'initializer': 'glorot_normal', 'optimizer_name': 'adam', 'epochs_count': 2000, 'learning_rate_decay_method': 'on_plato', 'learning_rate': 0.001, 'loss': 'mae', 'batch_size': 128, 'patience': 200}\n",
      "{'train': 0.2869802274878087, 'val': 0.23197786530405984, 'test': 0.27314150165686973}\n",
      "D:/Datasets/InsilicoMedicine/models/generator/genes_normalization/dae\\trained_models\\cv_34\n",
      "D:/Datasets/InsilicoMedicine/models/generator/genes_normalization/dae\\trained_models\\cv_34\\1_fold\n",
      "      train       val      test title\n",
      "0  0.269510  0.210686  0.274172  cv_0\n",
      "1  0.287187  0.240379  0.274969  cv_1\n",
      "2  0.288474  0.251637  0.272187  cv_2\n",
      "3  0.291219  0.219889  0.272145  cv_3\n",
      "4  0.298512  0.237297  0.272235  cv_4\n",
      "5  0.286980  0.231978  0.273142  mean\n"
     ]
    }
   ],
   "source": [
    "experiment_dir = path_join(MODELS_DIR, 'D:/Datasets/InsilicoMedicine/models/generator/genes_normalization/dae2')\n",
    "results_file = 'D:/Datasets/InsilicoMedicine/models/generator/genes_normalization/dae/cv_results.json'\n",
    "\n",
    "best_parameters, best_scores, best_model_path, cv_scores_data, best_fold_path = load_best_model_parameters(\n",
    "    experiment_dir,\n",
    "    results_file,\n",
    "    condition='max',\n",
    ")\n",
    "print(best_parameters)\n",
    "print(best_scores)\n",
    "print(best_model_path)\n",
    "\n",
    "print(best_fold_path)\n",
    "\n",
    "print(cv_scores_data)"
   ]
  },
  {
   "cell_type": "code",
   "execution_count": 55,
   "metadata": {},
   "outputs": [
    {
     "name": "stdout",
     "output_type": "stream",
     "text": [
      "D:/Datasets/InsilicoMedicine/models/generator/genes_normalization/dae\\trained_models\\cv_34\\0_fold\\loss_history\n"
     ]
    },
    {
     "data": {
      "image/png": "[encoded data removed]",
      "text/plain": [
       "<Figure size 432x288 with 1 Axes>"
      ]
     },
     "metadata": {
      "needs_background": "light"
     },
     "output_type": "display_data"
    }
   ],
   "source": [
    "import pickle\n",
    "\n",
    "file_name = os.path.join(best_model_path, '0_fold\\loss_history')\n",
    "print(file_name)\n",
    "with open(file_name, 'rb') as file:\n",
    "    data = pickle.load(file)\n",
    "\n",
    "import matplotlib.pyplot as plt\n",
    "plt.plot(data['coeff_determination'], label='train_loss')\n",
    "plt.plot(data['val_coeff_determination'], label='val_loss')\n",
    "plt.ylabel('loss (r2)')\n",
    "plt.ylim(0.1, 0.5)\n",
    "plt.legend()\n",
    "plt.savefig('genes_norm_dae')"
   ]
  },
  {
   "cell_type": "code",
   "execution_count": 33,
   "metadata": {},
   "outputs": [
    {
     "data": {
      "image/png": "[encoded data removed]",
      "text/plain": [
       "<Figure size 432x288 with 1 Axes>"
      ]
     },
     "metadata": {
      "needs_background": "light"
     },
     "output_type": "display_data"
    }
   ],
   "source": []
  },
  {
   "cell_type": "code",
   "execution_count": 50,
   "metadata": {},
   "outputs": [
    {
     "name": "stdout",
     "output_type": "stream",
     "text": [
      "{'train_results': {'mae': 16.96177865115079, 'r2': -1.0365169309270734}, 'test_results': {'mae': 16.796353326094778, 'r2': -0.05888416943761965}}\n",
      "D:/Datasets/InsilicoMedicine/models/generator/predict_age_log_data/mlp/loss_history\n",
      "dict_keys(['val_loss', 'val_coeff_determination', 'loss', 'coeff_determination', 'lr'])\n"
     ]
    },
    {
     "data": {
      "image/png": "[encoded data removed]",
      "text/plain": [
       "<Figure size 432x288 with 1 Axes>"
      ]
     },
     "metadata": {
      "needs_background": "light"
     },
     "output_type": "display_data"
    }
   ],
   "source": [
    "experiment_dir = path_join(MODELS_DIR, 'D:/Datasets/InsilicoMedicine/models/generator/predict_age_log_data/mlp')\n",
    "results_file = 'D:/Datasets/InsilicoMedicine/models/generator/predict_age_log_data/mlp/results.json'\n",
    "\n",
    "with open(results_file) as json_file:\n",
    "    data = json.load(json_file)\n",
    "    \n",
    "    print(data)\n",
    "\n",
    "import pickle\n",
    "\n",
    "file_name = 'D:/Datasets/InsilicoMedicine/models/generator/predict_age_log_data/mlp/loss_history'\n",
    "print(file_name)\n",
    "with open(file_name, 'rb') as file:\n",
    "    data = pickle.load(file)\n",
    "\n",
    "print(data.keys())\n",
    "    \n",
    "import matplotlib.pyplot as plt\n",
    "plt.plot(data['loss'], label='train_loss')\n",
    "plt.plot(data['val_loss'], label='val_loss')\n",
    "plt.ylabel('loss (mae)')\n",
    "# plt.ylim(0, 0.5)\n",
    "plt.legend()\n",
    "plt.savefig('predict_age_log_data')"
   ]
  },
  {
   "cell_type": "code",
   "execution_count": null,
   "metadata": {},
   "outputs": [],
   "source": [
    "experiment_dir = path_join(MODELS_DIR, 'D:/Datasets/InsilicoMedicine/models/generator/predict_age_log_data/mlp')\n",
    "results_file = 'D:/Datasets/InsilicoMedicine/models/generator/genes_normalization/daep3/dae/results.json'\n",
    "\n",
    "with open(results_file) as json_file:\n",
    "    data = json.load(json_file)\n",
    "    \n",
    "    print(data)\n",
    "\n",
    "import pickle\n",
    "\n",
    "file_name = 'D:/Datasets/InsilicoMedicine/models/generator/genes_normalization/daep3/dae/loss_history'\n",
    "print(file_name)\n",
    "with open(file_name, 'rb') as file:\n",
    "    data = pickle.load(file)\n",
    "\n",
    "print(data.keys())\n",
    "    \n",
    "import matplotlib.pyplot as plt\n",
    "plt.plot(data['loss'], label='train_loss')\n",
    "plt.plot(data['val_loss'], label='val_loss')\n",
    "plt.ylabel('loss (mae)')\n",
    "# plt.ylim(0, 0.5)\n",
    "plt.legend()\n",
    "plt.savefig('genes_norm_daep')"
   ]
  }
 ],
 "metadata": {
  "kernelspec": {
   "display_name": "Python 3",
   "language": "python",
   "name": "python3"
  },
  "language_info": {
   "codemirror_mode": {
    "name": "ipython",
    "version": 3
   },
   "file_extension": ".py",
   "mimetype": "text/x-python",
   "name": "python",
   "nbconvert_exporter": "python",
   "pygments_lexer": "ipython3",
   "version": "3.6.7"
  }
 },
 "nbformat": 4,
 "nbformat_minor": 2
}
