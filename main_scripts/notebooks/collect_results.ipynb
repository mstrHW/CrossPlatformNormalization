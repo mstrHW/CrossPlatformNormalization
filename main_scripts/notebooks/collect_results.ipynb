{
 "cells": [
  {
   "cell_type": "code",
   "execution_count": 8,
   "metadata": {},
   "outputs": [],
   "source": [
    "import sys\n",
    "sys.path.append(\"../../\") \n",
    "\n",
    "from definitions import *\n",
    "from module.models.utils.utils import load_best_model_parameters\n",
    "from module.models.mlp import MLP\n",
    "\n",
    "import json\n",
    "import pandas as pd\n",
    "\n",
    "\n",
    "def saved_models_parameters_generator(results_file):\n",
    "    with open(results_file) as json_file:\n",
    "        data = json.load(json_file)\n",
    "\n",
    "        for i, node in enumerate(data):\n",
    "            yield node['params'], node['scores'], node['model_path']\n",
    "            \n",
    "            \n",
    "def load_best_model_parameters(model_directory, results_file, best_on='test', condition='min'):\n",
    "    cv_scores = []\n",
    "    data = []\n",
    "\n",
    "    condition_index = 0\n",
    "    if best_on == 'val':\n",
    "        condition_index = 1\n",
    "    elif best_on == 'test':\n",
    "        condition_index = 2\n",
    "\n",
    "    condition_lambda = lambda x: x.argmin()\n",
    "    if condition == 'max':\n",
    "        condition_lambda = lambda x: x.argmax()\n",
    "\n",
    "    for (parameters, scores, model_path) in saved_models_parameters_generator(os.path.join(results_file)):\n",
    "        data.append([parameters, scores, model_path])\n",
    "        cv_scores.append([scores['train'], scores['val'], scores['test']])\n",
    "\n",
    "    cv_scores = np.array(cv_scores)\n",
    "    best_model_index = condition_lambda(cv_scores[:, condition_index])\n",
    "    \n",
    "    best_parameters = data[best_model_index][0]\n",
    "    best_scores = data[best_model_index][1]\n",
    "    best_model_path = data[best_model_index][2]\n",
    "\n",
    "    cv_scores_file = os.path.join(best_model_path, 'cv_scores.csv')\n",
    "    cv_scores_data = pd.read_csv(cv_scores_file)\n",
    "\n",
    "    best_model_index = condition_lambda(cv_scores_data[best_on].values)\n",
    "    best_fold_path = os.path.join(best_model_path, '{}_fold'.format(best_model_index))\n",
    "\n",
    "    if not os.path.exists(best_fold_path):  # for older version of experiment structure\n",
    "        best_fold_path = os.path.join(best_model_path, str(best_model_index))\n",
    "\n",
    "    return best_parameters, best_scores, best_model_path, cv_scores_data, best_fold_path"
   ]
  },
  {
   "cell_type": "code",
   "execution_count": 60,
   "metadata": {},
   "outputs": [
    {
     "name": "stdout",
     "output_type": "stream",
     "text": [
      "{'features_count': 1000, 'layers': [512, 256, 128, 1], 'activation': 'lrelu', 'output_activation': 'linear', 'drop_rate': 0.75, 'regularizer_name': 'l1_l2', 'regularizer_param': 0.0001, 'initializer': 'glorot_normal', 'optimizer_name': 'rmsprop', 'epochs_count': 2000, 'learning_rate_decay_method': 'on_plato', 'learning_rate': 0.0001, 'loss': 'mae', 'batch_size': 128, 'patience': 200}\n",
      "{'train': 5.098262157268438, 'val': 6.39461719909812, 'test': 12.704128985813686}\n",
      "/home/aonishchuk/projects/CPN2/models/predict_age/mlp/cv_19\n"
     ]
    }
   ],
   "source": [
    "experiment_dir = path_join(MODELS_DIR, 'predict_age/mlp')\n",
    "results_file = 'C:/Users/HWer/Documents/GitHub/CrossPlatformNormalization/CrossPlatformNormalization/tmp/cv_results_mlp.json'\n",
    "\n",
    "best_parameters, best_scores, best_model_path, _, _ = load_best_model_parameters(\n",
    "    experiment_dir,\n",
    "    results_file,\n",
    ")\n",
    "print(best_parameters)\n",
    "print(best_scores)\n",
    "print(best_model_path)"
   ]
  },
  {
   "cell_type": "code",
   "execution_count": 56,
   "metadata": {},
   "outputs": [
    {
     "ename": "FileNotFoundError",
     "evalue": "File b'/home/aonishchuk/projects/CPN2/models/genes_normalization/dae/trained_models/cv_56\\\\cv_scores.csv' does not exist",
     "output_type": "error",
     "traceback": [
      "\u001b[1;31m---------------------------------------------------------------------------\u001b[0m",
      "\u001b[1;31mFileNotFoundError\u001b[0m                         Traceback (most recent call last)",
      "\u001b[1;32m<ipython-input-56-f3b71aeeed93>\u001b[0m in \u001b[0;36m<module>\u001b[1;34m\u001b[0m\n\u001b[0;32m      4\u001b[0m best_parameters, best_scores, best_model_path, _, best_fold_path = load_best_model_parameters(\n\u001b[0;32m      5\u001b[0m     \u001b[0mexperiment_dir\u001b[0m\u001b[1;33m,\u001b[0m\u001b[1;33m\u001b[0m\u001b[1;33m\u001b[0m\u001b[0m\n\u001b[1;32m----> 6\u001b[1;33m     \u001b[0mresults_file\u001b[0m\u001b[1;33m,\u001b[0m\u001b[1;33m\u001b[0m\u001b[1;33m\u001b[0m\u001b[0m\n\u001b[0m\u001b[0;32m      7\u001b[0m )\n\u001b[0;32m      8\u001b[0m \u001b[0mprint\u001b[0m\u001b[1;33m(\u001b[0m\u001b[0mbest_parameters\u001b[0m\u001b[1;33m)\u001b[0m\u001b[1;33m\u001b[0m\u001b[1;33m\u001b[0m\u001b[0m\n",
      "\u001b[1;32m<ipython-input-8-1fd87843a4a3>\u001b[0m in \u001b[0;36mload_best_model_parameters\u001b[1;34m(model_directory, results_file, best_on, condition)\u001b[0m\n\u001b[0;32m     44\u001b[0m \u001b[1;33m\u001b[0m\u001b[0m\n\u001b[0;32m     45\u001b[0m     \u001b[0mcv_scores_file\u001b[0m \u001b[1;33m=\u001b[0m \u001b[0mos\u001b[0m\u001b[1;33m.\u001b[0m\u001b[0mpath\u001b[0m\u001b[1;33m.\u001b[0m\u001b[0mjoin\u001b[0m\u001b[1;33m(\u001b[0m\u001b[0mbest_model_path\u001b[0m\u001b[1;33m,\u001b[0m \u001b[1;34m'cv_scores.csv'\u001b[0m\u001b[1;33m)\u001b[0m\u001b[1;33m\u001b[0m\u001b[1;33m\u001b[0m\u001b[0m\n\u001b[1;32m---> 46\u001b[1;33m     \u001b[0mcv_scores_data\u001b[0m \u001b[1;33m=\u001b[0m \u001b[0mpd\u001b[0m\u001b[1;33m.\u001b[0m\u001b[0mread_csv\u001b[0m\u001b[1;33m(\u001b[0m\u001b[0mcv_scores_file\u001b[0m\u001b[1;33m)\u001b[0m\u001b[1;33m\u001b[0m\u001b[1;33m\u001b[0m\u001b[0m\n\u001b[0m\u001b[0;32m     47\u001b[0m \u001b[1;33m\u001b[0m\u001b[0m\n\u001b[0;32m     48\u001b[0m     \u001b[0mbest_model_index\u001b[0m \u001b[1;33m=\u001b[0m \u001b[0mcondition_lambda\u001b[0m\u001b[1;33m(\u001b[0m\u001b[0mcv_scores_data\u001b[0m\u001b[1;33m[\u001b[0m\u001b[0mbest_on\u001b[0m\u001b[1;33m]\u001b[0m\u001b[1;33m.\u001b[0m\u001b[0mvalues\u001b[0m\u001b[1;33m)\u001b[0m\u001b[1;33m\u001b[0m\u001b[1;33m\u001b[0m\u001b[0m\n",
      "\u001b[1;32mc:\\users\\hwer\\appdata\\local\\programs\\python\\python36\\lib\\site-packages\\pandas\\io\\parsers.py\u001b[0m in \u001b[0;36mparser_f\u001b[1;34m(filepath_or_buffer, sep, delimiter, header, names, index_col, usecols, squeeze, prefix, mangle_dupe_cols, dtype, engine, converters, true_values, false_values, skipinitialspace, skiprows, nrows, na_values, keep_default_na, na_filter, verbose, skip_blank_lines, parse_dates, infer_datetime_format, keep_date_col, date_parser, dayfirst, iterator, chunksize, compression, thousands, decimal, lineterminator, quotechar, quoting, escapechar, comment, encoding, dialect, tupleize_cols, error_bad_lines, warn_bad_lines, skipfooter, doublequote, delim_whitespace, low_memory, memory_map, float_precision)\u001b[0m\n\u001b[0;32m    676\u001b[0m                     skip_blank_lines=skip_blank_lines)\n\u001b[0;32m    677\u001b[0m \u001b[1;33m\u001b[0m\u001b[0m\n\u001b[1;32m--> 678\u001b[1;33m         \u001b[1;32mreturn\u001b[0m \u001b[0m_read\u001b[0m\u001b[1;33m(\u001b[0m\u001b[0mfilepath_or_buffer\u001b[0m\u001b[1;33m,\u001b[0m \u001b[0mkwds\u001b[0m\u001b[1;33m)\u001b[0m\u001b[1;33m\u001b[0m\u001b[1;33m\u001b[0m\u001b[0m\n\u001b[0m\u001b[0;32m    679\u001b[0m \u001b[1;33m\u001b[0m\u001b[0m\n\u001b[0;32m    680\u001b[0m     \u001b[0mparser_f\u001b[0m\u001b[1;33m.\u001b[0m\u001b[0m__name__\u001b[0m \u001b[1;33m=\u001b[0m \u001b[0mname\u001b[0m\u001b[1;33m\u001b[0m\u001b[1;33m\u001b[0m\u001b[0m\n",
      "\u001b[1;32mc:\\users\\hwer\\appdata\\local\\programs\\python\\python36\\lib\\site-packages\\pandas\\io\\parsers.py\u001b[0m in \u001b[0;36m_read\u001b[1;34m(filepath_or_buffer, kwds)\u001b[0m\n\u001b[0;32m    438\u001b[0m \u001b[1;33m\u001b[0m\u001b[0m\n\u001b[0;32m    439\u001b[0m     \u001b[1;31m# Create the parser.\u001b[0m\u001b[1;33m\u001b[0m\u001b[1;33m\u001b[0m\u001b[1;33m\u001b[0m\u001b[0m\n\u001b[1;32m--> 440\u001b[1;33m     \u001b[0mparser\u001b[0m \u001b[1;33m=\u001b[0m \u001b[0mTextFileReader\u001b[0m\u001b[1;33m(\u001b[0m\u001b[0mfilepath_or_buffer\u001b[0m\u001b[1;33m,\u001b[0m \u001b[1;33m**\u001b[0m\u001b[0mkwds\u001b[0m\u001b[1;33m)\u001b[0m\u001b[1;33m\u001b[0m\u001b[1;33m\u001b[0m\u001b[0m\n\u001b[0m\u001b[0;32m    441\u001b[0m \u001b[1;33m\u001b[0m\u001b[0m\n\u001b[0;32m    442\u001b[0m     \u001b[1;32mif\u001b[0m \u001b[0mchunksize\u001b[0m \u001b[1;32mor\u001b[0m \u001b[0miterator\u001b[0m\u001b[1;33m:\u001b[0m\u001b[1;33m\u001b[0m\u001b[1;33m\u001b[0m\u001b[0m\n",
      "\u001b[1;32mc:\\users\\hwer\\appdata\\local\\programs\\python\\python36\\lib\\site-packages\\pandas\\io\\parsers.py\u001b[0m in \u001b[0;36m__init__\u001b[1;34m(self, f, engine, **kwds)\u001b[0m\n\u001b[0;32m    785\u001b[0m             \u001b[0mself\u001b[0m\u001b[1;33m.\u001b[0m\u001b[0moptions\u001b[0m\u001b[1;33m[\u001b[0m\u001b[1;34m'has_index_names'\u001b[0m\u001b[1;33m]\u001b[0m \u001b[1;33m=\u001b[0m \u001b[0mkwds\u001b[0m\u001b[1;33m[\u001b[0m\u001b[1;34m'has_index_names'\u001b[0m\u001b[1;33m]\u001b[0m\u001b[1;33m\u001b[0m\u001b[1;33m\u001b[0m\u001b[0m\n\u001b[0;32m    786\u001b[0m \u001b[1;33m\u001b[0m\u001b[0m\n\u001b[1;32m--> 787\u001b[1;33m         \u001b[0mself\u001b[0m\u001b[1;33m.\u001b[0m\u001b[0m_make_engine\u001b[0m\u001b[1;33m(\u001b[0m\u001b[0mself\u001b[0m\u001b[1;33m.\u001b[0m\u001b[0mengine\u001b[0m\u001b[1;33m)\u001b[0m\u001b[1;33m\u001b[0m\u001b[1;33m\u001b[0m\u001b[0m\n\u001b[0m\u001b[0;32m    788\u001b[0m \u001b[1;33m\u001b[0m\u001b[0m\n\u001b[0;32m    789\u001b[0m     \u001b[1;32mdef\u001b[0m \u001b[0mclose\u001b[0m\u001b[1;33m(\u001b[0m\u001b[0mself\u001b[0m\u001b[1;33m)\u001b[0m\u001b[1;33m:\u001b[0m\u001b[1;33m\u001b[0m\u001b[1;33m\u001b[0m\u001b[0m\n",
      "\u001b[1;32mc:\\users\\hwer\\appdata\\local\\programs\\python\\python36\\lib\\site-packages\\pandas\\io\\parsers.py\u001b[0m in \u001b[0;36m_make_engine\u001b[1;34m(self, engine)\u001b[0m\n\u001b[0;32m   1012\u001b[0m     \u001b[1;32mdef\u001b[0m \u001b[0m_make_engine\u001b[0m\u001b[1;33m(\u001b[0m\u001b[0mself\u001b[0m\u001b[1;33m,\u001b[0m \u001b[0mengine\u001b[0m\u001b[1;33m=\u001b[0m\u001b[1;34m'c'\u001b[0m\u001b[1;33m)\u001b[0m\u001b[1;33m:\u001b[0m\u001b[1;33m\u001b[0m\u001b[1;33m\u001b[0m\u001b[0m\n\u001b[0;32m   1013\u001b[0m         \u001b[1;32mif\u001b[0m \u001b[0mengine\u001b[0m \u001b[1;33m==\u001b[0m \u001b[1;34m'c'\u001b[0m\u001b[1;33m:\u001b[0m\u001b[1;33m\u001b[0m\u001b[1;33m\u001b[0m\u001b[0m\n\u001b[1;32m-> 1014\u001b[1;33m             \u001b[0mself\u001b[0m\u001b[1;33m.\u001b[0m\u001b[0m_engine\u001b[0m \u001b[1;33m=\u001b[0m \u001b[0mCParserWrapper\u001b[0m\u001b[1;33m(\u001b[0m\u001b[0mself\u001b[0m\u001b[1;33m.\u001b[0m\u001b[0mf\u001b[0m\u001b[1;33m,\u001b[0m \u001b[1;33m**\u001b[0m\u001b[0mself\u001b[0m\u001b[1;33m.\u001b[0m\u001b[0moptions\u001b[0m\u001b[1;33m)\u001b[0m\u001b[1;33m\u001b[0m\u001b[1;33m\u001b[0m\u001b[0m\n\u001b[0m\u001b[0;32m   1015\u001b[0m         \u001b[1;32melse\u001b[0m\u001b[1;33m:\u001b[0m\u001b[1;33m\u001b[0m\u001b[1;33m\u001b[0m\u001b[0m\n\u001b[0;32m   1016\u001b[0m             \u001b[1;32mif\u001b[0m \u001b[0mengine\u001b[0m \u001b[1;33m==\u001b[0m \u001b[1;34m'python'\u001b[0m\u001b[1;33m:\u001b[0m\u001b[1;33m\u001b[0m\u001b[1;33m\u001b[0m\u001b[0m\n",
      "\u001b[1;32mc:\\users\\hwer\\appdata\\local\\programs\\python\\python36\\lib\\site-packages\\pandas\\io\\parsers.py\u001b[0m in \u001b[0;36m__init__\u001b[1;34m(self, src, **kwds)\u001b[0m\n\u001b[0;32m   1706\u001b[0m         \u001b[0mkwds\u001b[0m\u001b[1;33m[\u001b[0m\u001b[1;34m'usecols'\u001b[0m\u001b[1;33m]\u001b[0m \u001b[1;33m=\u001b[0m \u001b[0mself\u001b[0m\u001b[1;33m.\u001b[0m\u001b[0musecols\u001b[0m\u001b[1;33m\u001b[0m\u001b[1;33m\u001b[0m\u001b[0m\n\u001b[0;32m   1707\u001b[0m \u001b[1;33m\u001b[0m\u001b[0m\n\u001b[1;32m-> 1708\u001b[1;33m         \u001b[0mself\u001b[0m\u001b[1;33m.\u001b[0m\u001b[0m_reader\u001b[0m \u001b[1;33m=\u001b[0m \u001b[0mparsers\u001b[0m\u001b[1;33m.\u001b[0m\u001b[0mTextReader\u001b[0m\u001b[1;33m(\u001b[0m\u001b[0msrc\u001b[0m\u001b[1;33m,\u001b[0m \u001b[1;33m**\u001b[0m\u001b[0mkwds\u001b[0m\u001b[1;33m)\u001b[0m\u001b[1;33m\u001b[0m\u001b[1;33m\u001b[0m\u001b[0m\n\u001b[0m\u001b[0;32m   1709\u001b[0m \u001b[1;33m\u001b[0m\u001b[0m\n\u001b[0;32m   1710\u001b[0m         \u001b[0mpassed_names\u001b[0m \u001b[1;33m=\u001b[0m \u001b[0mself\u001b[0m\u001b[1;33m.\u001b[0m\u001b[0mnames\u001b[0m \u001b[1;32mis\u001b[0m \u001b[1;32mNone\u001b[0m\u001b[1;33m\u001b[0m\u001b[1;33m\u001b[0m\u001b[0m\n",
      "\u001b[1;32mpandas\\_libs\\parsers.pyx\u001b[0m in \u001b[0;36mpandas._libs.parsers.TextReader.__cinit__\u001b[1;34m()\u001b[0m\n",
      "\u001b[1;32mpandas\\_libs\\parsers.pyx\u001b[0m in \u001b[0;36mpandas._libs.parsers.TextReader._setup_parser_source\u001b[1;34m()\u001b[0m\n",
      "\u001b[1;31mFileNotFoundError\u001b[0m: File b'/home/aonishchuk/projects/CPN2/models/genes_normalization/dae/trained_models/cv_56\\\\cv_scores.csv' does not exist"
     ]
    }
   ],
   "source": [
    "experiment_dir = path_join(MODELS_DIR, 'predict_age/mlp')\n",
    "results_file = 'C:/Users/HWer/Documents/GitHub/CrossPlatformNormalization/CrossPlatformNormalization/tmp/cv_results_dae.json'\n",
    "\n",
    "best_parameters, best_scores, best_model_path, _, best_fold_path = load_best_model_parameters(\n",
    "    experiment_dir,\n",
    "    results_file,\n",
    ")\n",
    "print(best_parameters)\n",
    "print(best_scores)\n",
    "print(best_model_path)\n",
    "\n",
    "import pickle\n",
    "\n",
    "file_name = os.path.join(best_fold_path, 'loss_history')\n",
    "print(file_name)\n",
    "with open(file_name, 'rb') as file:\n",
    "    data = pickle.load(file)\n",
    "\n",
    "import matplotlib.pyplot as plt\n",
    "plt.plot(data['coeff_determination'], label='train_loss')\n",
    "plt.plot(data['val_coeff_determination'], label='val_loss')\n",
    "plt.ylabel('loss (r2)')\n",
    "plt.ylim(0.1, 0.5)\n",
    "plt.legend()\n",
    "plt.savefig('genes_norm_dae')"
   ]
  },
  {
   "cell_type": "code",
   "execution_count": 13,
   "metadata": {},
   "outputs": [
    {
     "name": "stdout",
     "output_type": "stream",
     "text": [
      "D:/Datasets/InsilicoMedicine/models/predict_age/mlp\\trained_models\\cv_1\\2_fold\n"
     ]
    }
   ],
   "source": [
    "print(best_fold_path)"
   ]
  },
  {
   "cell_type": "code",
   "execution_count": 45,
   "metadata": {},
   "outputs": [
    {
     "name": "stdout",
     "output_type": "stream",
     "text": [
      "{'features_count': 1000, 'layers': [[1000, 512, 256, 64], [256, 512, 1000]], 'activation': 'lrelu', 'output_activation': 'linear', 'drop_rate': 0.0, 'regularizer_name': 'l1_l2', 'regularizer_param': 1e-05, 'initializer': 'glorot_normal', 'optimizer_name': 'adam', 'epochs_count': 2000, 'learning_rate_decay_method': 'on_plato', 'learning_rate': 0.001, 'loss': 'mae', 'batch_size': 128, 'patience': 200}\n",
      "{'train': 0.2869802274878087, 'val': 0.23197786530405984, 'test': 0.27314150165686973}\n",
      "D:/Datasets/InsilicoMedicine/models/generator/genes_normalization/dae\\trained_models\\cv_34\n",
      "D:/Datasets/InsilicoMedicine/models/generator/genes_normalization/dae\\trained_models\\cv_34\\1_fold\n",
      "      train       val      test title\n",
      "0  0.269510  0.210686  0.274172  cv_0\n",
      "1  0.287187  0.240379  0.274969  cv_1\n",
      "2  0.288474  0.251637  0.272187  cv_2\n",
      "3  0.291219  0.219889  0.272145  cv_3\n",
      "4  0.298512  0.237297  0.272235  cv_4\n",
      "5  0.286980  0.231978  0.273142  mean\n"
     ]
    }
   ],
   "source": [
    "experiment_dir = path_join(MODELS_DIR, 'D:/Datasets/InsilicoMedicine/models/generator/genes_normalization/dae2')\n",
    "results_file = 'D:/Datasets/InsilicoMedicine/models/generator/genes_normalization/dae/cv_results.json'\n",
    "\n",
    "best_parameters, best_scores, best_model_path, cv_scores_data, best_fold_path = load_best_model_parameters(\n",
    "    experiment_dir,\n",
    "    results_file,\n",
    "    condition='max',\n",
    ")\n",
    "print(best_parameters)\n",
    "print(best_scores)\n",
    "print(best_model_path)\n",
    "\n",
    "print(best_fold_path)\n",
    "\n",
    "print(cv_scores_data)"
   ]
  },
  {
   "cell_type": "code",
   "execution_count": 59,
   "metadata": {},
   "outputs": [
    {
     "name": "stdout",
     "output_type": "stream",
     "text": [
      "D:/Datasets/InsilicoMedicine/models/generator/genes_normalization/dae\\trained_models\\cv_34\\1_fold\\loss_history\n"
     ]
    },
    {
     "data": {
      "image/png": "[encoded data removed]",
      "text/plain": [
       "<Figure size 432x288 with 1 Axes>"
      ]
     },
     "metadata": {
      "needs_background": "light"
     },
     "output_type": "display_data"
    }
   ],
   "source": [
    "import pickle\n",
    "\n",
    "file_name = os.path.join(best_fold_path, 'loss_history')\n",
    "print(file_name)\n",
    "with open(file_name, 'rb') as file:\n",
    "    data = pickle.load(file)\n",
    "\n",
    "import matplotlib.pyplot as plt\n",
    "plt.plot(data['coeff_determination'], label='train_loss')\n",
    "plt.plot(data['val_coeff_determination'], label='val_loss')\n",
    "plt.ylabel('loss (r2)')\n",
    "plt.ylim(0.1, 0.5)\n",
    "plt.legend()\n",
    "plt.savefig('genes_norm_dae')"
   ]
  },
  {
   "cell_type": "code",
   "execution_count": 33,
   "metadata": {},
   "outputs": [
    {
     "data": {
      "image/png": "[encoded data removed]",
      "text/plain": [
       "<Figure size 432x288 with 1 Axes>"
      ]
     },
     "metadata": {
      "needs_background": "light"
     },
     "output_type": "display_data"
    }
   ],
   "source": []
  },
  {
   "cell_type": "code",
   "execution_count": 57,
   "metadata": {},
   "outputs": [
    {
     "name": "stdout",
     "output_type": "stream",
     "text": [
      "{'train_results': {'mae': 16.96177865115079, 'r2': -1.0365169309270734}, 'test_results': {'mae': 16.796353326094778, 'r2': -0.05888416943761965}}\n",
      "D:/Datasets/InsilicoMedicine/models/generator/predict_age_log_data/mlp/loss_history\n",
      "dict_keys(['val_loss', 'val_coeff_determination', 'loss', 'coeff_determination', 'lr'])\n"
     ]
    },
    {
     "data": {
      "image/png": "[encoded data removed]",
      "text/plain": [
       "<Figure size 432x288 with 1 Axes>"
      ]
     },
     "metadata": {
      "needs_background": "light"
     },
     "output_type": "display_data"
    }
   ],
   "source": [
    "experiment_dir = path_join(MODELS_DIR, 'predict_age_log_data/mlp')\n",
    "results_file = path_join(MODELS_DIR, 'results.json')\n",
    "\n",
    "with open(results_file) as json_file:\n",
    "    data = json.load(json_file)\n",
    "    \n",
    "    print(data)\n",
    "\n",
    "import pickle\n",
    "\n",
    "file_name = path_join(MODELS_DIR, 'loss_history')\n",
    "print(file_name)\n",
    "with open(file_name, 'rb') as file:\n",
    "    data = pickle.load(file)\n",
    "\n",
    "print(data.keys())\n",
    "    \n",
    "import matplotlib.pyplot as plt\n",
    "plt.plot(data['loss'], label='train_loss')\n",
    "plt.plot(data['val_loss'], label='val_loss')\n",
    "plt.ylabel('loss (mae)')\n",
    "# plt.ylim(0, 0.5)\n",
    "plt.legend()\n",
    "plt.savefig('predict_age_log_data')"
   ]
  },
  {
   "cell_type": "code",
   "execution_count": null,
   "metadata": {},
   "outputs": [],
   "source": [
    "experiment_dir = path_join(MODELS_DIR, 'D:/Datasets/InsilicoMedicine/models/generator/predict_age_log_data/mlp')\n",
    "results_file = 'D:/Datasets/InsilicoMedicine/models/generator/genes_normalization/daep3/dae/results.json'\n",
    "\n",
    "with open(results_file) as json_file:\n",
    "    data = json.load(json_file)\n",
    "    \n",
    "    print(data)\n",
    "\n",
    "import pickle\n",
    "\n",
    "file_name = 'D:/Datasets/InsilicoMedicine/models/generator/genes_normalization/daep3/dae/loss_history'\n",
    "print(file_name)\n",
    "with open(file_name, 'rb') as file:\n",
    "    data = pickle.load(file)\n",
    "\n",
    "print(data.keys())\n",
    "    \n",
    "import matplotlib.pyplot as plt\n",
    "plt.plot(data['loss'], label='train_loss')\n",
    "plt.plot(data['val_loss'], label='val_loss')\n",
    "plt.ylabel('loss (mae)')\n",
    "# plt.ylim(0, 0.5)\n",
    "plt.legend()\n",
    "plt.savefig('genes_norm_daep')"
   ]
  }
 ],
 "metadata": {
  "kernelspec": {
   "display_name": "Python 3",
   "language": "python",
   "name": "python3"
  },
  "language_info": {
   "codemirror_mode": {
    "name": "ipython",
    "version": 3
   },
   "file_extension": ".py",
   "mimetype": "text/x-python",
   "name": "python",
   "nbconvert_exporter": "python",
   "pygments_lexer": "ipython3",
   "version": "3.6.7"
  }
 },
 "nbformat": 4,
 "nbformat_minor": 2
}
